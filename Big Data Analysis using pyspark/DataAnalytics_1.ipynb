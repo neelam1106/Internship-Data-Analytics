{
  "nbformat": 4,
  "nbformat_minor": 0,
  "metadata": {
    "colab": {
      "provenance": []
    },
    "kernelspec": {
      "name": "python3",
      "display_name": "Python 3"
    },
    "language_info": {
      "name": "python"
    }
  },
  "cells": [
    {
      "cell_type": "code",
      "execution_count": null,
      "metadata": {
        "id": "lOP0of56BkS8"
      },
      "outputs": [],
      "source": []
    },
    {
      "cell_type": "markdown",
      "source": [],
      "metadata": {
        "id": "laVKqRrvNCv1"
      }
    },
    {
      "cell_type": "code",
      "source": [
        "# # Internship Task 1: Big Data Analysis using PySpark\n",
        "# This notebook analyzes a large fraud detection dataset using PySpark to demonstrate scalability.\n"
      ],
      "metadata": {
        "id": "7yOMWnIPOErx"
      },
      "execution_count": null,
      "outputs": []
    },
    {
      "cell_type": "code",
      "source": [
        "# 🔧 Step 1: Install Java (Spark needs Java runtime)\n",
        "!apt-get install openjdk-11-jdk-headless -qq > /dev/null\n",
        "\n",
        "# 🔧 Step 2: Download Spark 3.5.1 (you can change version if needed)\n",
        "!wget -q https://archive.apache.org/dist/spark/spark-3.5.1/spark-3.5.1-bin-hadoop3.tgz\n",
        "\n",
        "# 🔧 Step 3: Extract Spark package\n",
        "!tar -xzf spark-3.5.1-bin-hadoop3.tgz\n",
        "\n",
        "# 🔧 Step 4: Install findspark to connect Python with Spark\n",
        "!pip install -q findspark\n"
      ],
      "metadata": {
        "id": "LK5YRbTTBsMp"
      },
      "execution_count": 1,
      "outputs": []
    },
    {
      "cell_type": "code",
      "source": [
        "import os\n",
        "import findspark\n",
        "\n",
        "# Set environment paths for Java and Spark\n",
        "os.environ[\"JAVA_HOME\"] = \"/usr/lib/jvm/java-11-openjdk-amd64\"\n",
        "os.environ[\"SPARK_HOME\"] = \"/content/spark-3.5.1-bin-hadoop3\"\n",
        "\n",
        "# Initialize findspark\n",
        "findspark.init()\n"
      ],
      "metadata": {
        "id": "-_VR-fT6CN_8"
      },
      "execution_count": 2,
      "outputs": []
    },
    {
      "cell_type": "markdown",
      "source": [],
      "metadata": {
        "id": "CaB7K5cxMw87"
      }
    },
    {
      "cell_type": "code",
      "source": [
        "from google.colab import files\n",
        "uploaded = files.upload()\n"
      ],
      "metadata": {
        "colab": {
          "base_uri": "https://localhost:8080/",
          "height": 73
        },
        "id": "dsAiBz4dCUkd",
        "outputId": "d30c341e-6465-417e-8696-5b7271af105b"
      },
      "execution_count": 3,
      "outputs": [
        {
          "output_type": "display_data",
          "data": {
            "text/plain": [
              "<IPython.core.display.HTML object>"
            ],
            "text/html": [
              "\n",
              "     <input type=\"file\" id=\"files-823e7e87-4ff1-4b82-b6ea-daf158c1e37b\" name=\"files[]\" multiple disabled\n",
              "        style=\"border:none\" />\n",
              "     <output id=\"result-823e7e87-4ff1-4b82-b6ea-daf158c1e37b\">\n",
              "      Upload widget is only available when the cell has been executed in the\n",
              "      current browser session. Please rerun this cell to enable.\n",
              "      </output>\n",
              "      <script>// Copyright 2017 Google LLC\n",
              "//\n",
              "// Licensed under the Apache License, Version 2.0 (the \"License\");\n",
              "// you may not use this file except in compliance with the License.\n",
              "// You may obtain a copy of the License at\n",
              "//\n",
              "//      http://www.apache.org/licenses/LICENSE-2.0\n",
              "//\n",
              "// Unless required by applicable law or agreed to in writing, software\n",
              "// distributed under the License is distributed on an \"AS IS\" BASIS,\n",
              "// WITHOUT WARRANTIES OR CONDITIONS OF ANY KIND, either express or implied.\n",
              "// See the License for the specific language governing permissions and\n",
              "// limitations under the License.\n",
              "\n",
              "/**\n",
              " * @fileoverview Helpers for google.colab Python module.\n",
              " */\n",
              "(function(scope) {\n",
              "function span(text, styleAttributes = {}) {\n",
              "  const element = document.createElement('span');\n",
              "  element.textContent = text;\n",
              "  for (const key of Object.keys(styleAttributes)) {\n",
              "    element.style[key] = styleAttributes[key];\n",
              "  }\n",
              "  return element;\n",
              "}\n",
              "\n",
              "// Max number of bytes which will be uploaded at a time.\n",
              "const MAX_PAYLOAD_SIZE = 100 * 1024;\n",
              "\n",
              "function _uploadFiles(inputId, outputId) {\n",
              "  const steps = uploadFilesStep(inputId, outputId);\n",
              "  const outputElement = document.getElementById(outputId);\n",
              "  // Cache steps on the outputElement to make it available for the next call\n",
              "  // to uploadFilesContinue from Python.\n",
              "  outputElement.steps = steps;\n",
              "\n",
              "  return _uploadFilesContinue(outputId);\n",
              "}\n",
              "\n",
              "// This is roughly an async generator (not supported in the browser yet),\n",
              "// where there are multiple asynchronous steps and the Python side is going\n",
              "// to poll for completion of each step.\n",
              "// This uses a Promise to block the python side on completion of each step,\n",
              "// then passes the result of the previous step as the input to the next step.\n",
              "function _uploadFilesContinue(outputId) {\n",
              "  const outputElement = document.getElementById(outputId);\n",
              "  const steps = outputElement.steps;\n",
              "\n",
              "  const next = steps.next(outputElement.lastPromiseValue);\n",
              "  return Promise.resolve(next.value.promise).then((value) => {\n",
              "    // Cache the last promise value to make it available to the next\n",
              "    // step of the generator.\n",
              "    outputElement.lastPromiseValue = value;\n",
              "    return next.value.response;\n",
              "  });\n",
              "}\n",
              "\n",
              "/**\n",
              " * Generator function which is called between each async step of the upload\n",
              " * process.\n",
              " * @param {string} inputId Element ID of the input file picker element.\n",
              " * @param {string} outputId Element ID of the output display.\n",
              " * @return {!Iterable<!Object>} Iterable of next steps.\n",
              " */\n",
              "function* uploadFilesStep(inputId, outputId) {\n",
              "  const inputElement = document.getElementById(inputId);\n",
              "  inputElement.disabled = false;\n",
              "\n",
              "  const outputElement = document.getElementById(outputId);\n",
              "  outputElement.innerHTML = '';\n",
              "\n",
              "  const pickedPromise = new Promise((resolve) => {\n",
              "    inputElement.addEventListener('change', (e) => {\n",
              "      resolve(e.target.files);\n",
              "    });\n",
              "  });\n",
              "\n",
              "  const cancel = document.createElement('button');\n",
              "  inputElement.parentElement.appendChild(cancel);\n",
              "  cancel.textContent = 'Cancel upload';\n",
              "  const cancelPromise = new Promise((resolve) => {\n",
              "    cancel.onclick = () => {\n",
              "      resolve(null);\n",
              "    };\n",
              "  });\n",
              "\n",
              "  // Wait for the user to pick the files.\n",
              "  const files = yield {\n",
              "    promise: Promise.race([pickedPromise, cancelPromise]),\n",
              "    response: {\n",
              "      action: 'starting',\n",
              "    }\n",
              "  };\n",
              "\n",
              "  cancel.remove();\n",
              "\n",
              "  // Disable the input element since further picks are not allowed.\n",
              "  inputElement.disabled = true;\n",
              "\n",
              "  if (!files) {\n",
              "    return {\n",
              "      response: {\n",
              "        action: 'complete',\n",
              "      }\n",
              "    };\n",
              "  }\n",
              "\n",
              "  for (const file of files) {\n",
              "    const li = document.createElement('li');\n",
              "    li.append(span(file.name, {fontWeight: 'bold'}));\n",
              "    li.append(span(\n",
              "        `(${file.type || 'n/a'}) - ${file.size} bytes, ` +\n",
              "        `last modified: ${\n",
              "            file.lastModifiedDate ? file.lastModifiedDate.toLocaleDateString() :\n",
              "                                    'n/a'} - `));\n",
              "    const percent = span('0% done');\n",
              "    li.appendChild(percent);\n",
              "\n",
              "    outputElement.appendChild(li);\n",
              "\n",
              "    const fileDataPromise = new Promise((resolve) => {\n",
              "      const reader = new FileReader();\n",
              "      reader.onload = (e) => {\n",
              "        resolve(e.target.result);\n",
              "      };\n",
              "      reader.readAsArrayBuffer(file);\n",
              "    });\n",
              "    // Wait for the data to be ready.\n",
              "    let fileData = yield {\n",
              "      promise: fileDataPromise,\n",
              "      response: {\n",
              "        action: 'continue',\n",
              "      }\n",
              "    };\n",
              "\n",
              "    // Use a chunked sending to avoid message size limits. See b/62115660.\n",
              "    let position = 0;\n",
              "    do {\n",
              "      const length = Math.min(fileData.byteLength - position, MAX_PAYLOAD_SIZE);\n",
              "      const chunk = new Uint8Array(fileData, position, length);\n",
              "      position += length;\n",
              "\n",
              "      const base64 = btoa(String.fromCharCode.apply(null, chunk));\n",
              "      yield {\n",
              "        response: {\n",
              "          action: 'append',\n",
              "          file: file.name,\n",
              "          data: base64,\n",
              "        },\n",
              "      };\n",
              "\n",
              "      let percentDone = fileData.byteLength === 0 ?\n",
              "          100 :\n",
              "          Math.round((position / fileData.byteLength) * 100);\n",
              "      percent.textContent = `${percentDone}% done`;\n",
              "\n",
              "    } while (position < fileData.byteLength);\n",
              "  }\n",
              "\n",
              "  // All done.\n",
              "  yield {\n",
              "    response: {\n",
              "      action: 'complete',\n",
              "    }\n",
              "  };\n",
              "}\n",
              "\n",
              "scope.google = scope.google || {};\n",
              "scope.google.colab = scope.google.colab || {};\n",
              "scope.google.colab._files = {\n",
              "  _uploadFiles,\n",
              "  _uploadFilesContinue,\n",
              "};\n",
              "})(self);\n",
              "</script> "
            ]
          },
          "metadata": {}
        },
        {
          "output_type": "stream",
          "name": "stdout",
          "text": [
            "Saving fraud_detection_bank_dataset.csv to fraud_detection_bank_dataset.csv\n"
          ]
        }
      ]
    },
    {
      "cell_type": "code",
      "source": [
        "from pyspark.sql import SparkSession\n",
        "\n",
        "# Start or get the SparkSession\n",
        "spark = SparkSession.builder \\\n",
        "    .appName(\"My Fraud Detection Analysis\") \\\n",
        "    .getOrCreate()\n"
      ],
      "metadata": {
        "id": "fZtXjo3CCsOx"
      },
      "execution_count": 6,
      "outputs": []
    },
    {
      "cell_type": "code",
      "source": [
        "df = spark.read.csv(\"fraud_detection_bank_dataset.csv\", header=True, inferSchema=True)\n",
        "df.printSchema()\n",
        "df.show(5)\n"
      ],
      "metadata": {
        "colab": {
          "base_uri": "https://localhost:8080/"
        },
        "id": "rSpq1impDebi",
        "outputId": "8b09fcc0-3459-4234-f9ba-e0c7da6d9be5"
      },
      "execution_count": 7,
      "outputs": [
        {
          "output_type": "stream",
          "name": "stdout",
          "text": [
            "root\n",
            " |-- _c0: integer (nullable = true)\n",
            " |-- col_0: integer (nullable = true)\n",
            " |-- col_1: integer (nullable = true)\n",
            " |-- col_2: integer (nullable = true)\n",
            " |-- col_3: integer (nullable = true)\n",
            " |-- col_4: integer (nullable = true)\n",
            " |-- col_5: integer (nullable = true)\n",
            " |-- col_6: integer (nullable = true)\n",
            " |-- col_7: integer (nullable = true)\n",
            " |-- col_8: integer (nullable = true)\n",
            " |-- col_9: integer (nullable = true)\n",
            " |-- col_10: integer (nullable = true)\n",
            " |-- col_11: integer (nullable = true)\n",
            " |-- col_12: integer (nullable = true)\n",
            " |-- col_13: integer (nullable = true)\n",
            " |-- col_14: integer (nullable = true)\n",
            " |-- col_15: integer (nullable = true)\n",
            " |-- col_16: integer (nullable = true)\n",
            " |-- col_17: integer (nullable = true)\n",
            " |-- col_18: integer (nullable = true)\n",
            " |-- col_19: integer (nullable = true)\n",
            " |-- col_20: integer (nullable = true)\n",
            " |-- col_21: integer (nullable = true)\n",
            " |-- col_22: integer (nullable = true)\n",
            " |-- col_23: integer (nullable = true)\n",
            " |-- col_24: integer (nullable = true)\n",
            " |-- col_25: integer (nullable = true)\n",
            " |-- col_26: integer (nullable = true)\n",
            " |-- col_27: integer (nullable = true)\n",
            " |-- col_28: integer (nullable = true)\n",
            " |-- col_29: integer (nullable = true)\n",
            " |-- col_30: integer (nullable = true)\n",
            " |-- col_31: integer (nullable = true)\n",
            " |-- col_32: integer (nullable = true)\n",
            " |-- col_33: integer (nullable = true)\n",
            " |-- col_34: integer (nullable = true)\n",
            " |-- col_35: integer (nullable = true)\n",
            " |-- col_36: integer (nullable = true)\n",
            " |-- col_37: integer (nullable = true)\n",
            " |-- col_38: integer (nullable = true)\n",
            " |-- col_39: integer (nullable = true)\n",
            " |-- col_40: integer (nullable = true)\n",
            " |-- col_41: integer (nullable = true)\n",
            " |-- col_42: integer (nullable = true)\n",
            " |-- col_43: integer (nullable = true)\n",
            " |-- col_44: integer (nullable = true)\n",
            " |-- col_45: integer (nullable = true)\n",
            " |-- col_46: integer (nullable = true)\n",
            " |-- col_47: integer (nullable = true)\n",
            " |-- col_48: integer (nullable = true)\n",
            " |-- col_49: integer (nullable = true)\n",
            " |-- col_50: integer (nullable = true)\n",
            " |-- col_51: integer (nullable = true)\n",
            " |-- col_52: integer (nullable = true)\n",
            " |-- col_53: integer (nullable = true)\n",
            " |-- col_54: integer (nullable = true)\n",
            " |-- col_55: integer (nullable = true)\n",
            " |-- col_56: integer (nullable = true)\n",
            " |-- col_57: integer (nullable = true)\n",
            " |-- col_58: integer (nullable = true)\n",
            " |-- col_59: integer (nullable = true)\n",
            " |-- col_60: integer (nullable = true)\n",
            " |-- col_61: integer (nullable = true)\n",
            " |-- col_62: integer (nullable = true)\n",
            " |-- col_63: integer (nullable = true)\n",
            " |-- col_64: integer (nullable = true)\n",
            " |-- col_65: integer (nullable = true)\n",
            " |-- col_66: integer (nullable = true)\n",
            " |-- col_67: double (nullable = true)\n",
            " |-- col_68: integer (nullable = true)\n",
            " |-- col_69: integer (nullable = true)\n",
            " |-- col_70: integer (nullable = true)\n",
            " |-- col_71: integer (nullable = true)\n",
            " |-- col_72: integer (nullable = true)\n",
            " |-- col_73: integer (nullable = true)\n",
            " |-- col_74: integer (nullable = true)\n",
            " |-- col_75: integer (nullable = true)\n",
            " |-- col_76: integer (nullable = true)\n",
            " |-- col_77: integer (nullable = true)\n",
            " |-- col_78: integer (nullable = true)\n",
            " |-- col_79: integer (nullable = true)\n",
            " |-- col_80: integer (nullable = true)\n",
            " |-- col_81: integer (nullable = true)\n",
            " |-- col_82: integer (nullable = true)\n",
            " |-- col_83: integer (nullable = true)\n",
            " |-- col_84: integer (nullable = true)\n",
            " |-- col_85: integer (nullable = true)\n",
            " |-- col_86: integer (nullable = true)\n",
            " |-- col_87: integer (nullable = true)\n",
            " |-- col_88: integer (nullable = true)\n",
            " |-- col_89: integer (nullable = true)\n",
            " |-- col_90: integer (nullable = true)\n",
            " |-- col_91: integer (nullable = true)\n",
            " |-- col_92: integer (nullable = true)\n",
            " |-- col_93: integer (nullable = true)\n",
            " |-- col_94: integer (nullable = true)\n",
            " |-- col_95: integer (nullable = true)\n",
            " |-- col_96: integer (nullable = true)\n",
            " |-- col_97: integer (nullable = true)\n",
            " |-- col_98: integer (nullable = true)\n",
            " |-- col_99: integer (nullable = true)\n",
            " |-- col_100: integer (nullable = true)\n",
            " |-- col_101: integer (nullable = true)\n",
            " |-- col_102: integer (nullable = true)\n",
            " |-- col_103: integer (nullable = true)\n",
            " |-- col_104: integer (nullable = true)\n",
            " |-- col_105: integer (nullable = true)\n",
            " |-- col_106: integer (nullable = true)\n",
            " |-- col_107: integer (nullable = true)\n",
            " |-- col_108: integer (nullable = true)\n",
            " |-- col_109: integer (nullable = true)\n",
            " |-- col_110: integer (nullable = true)\n",
            " |-- col_111: integer (nullable = true)\n",
            " |-- targets: integer (nullable = true)\n",
            "\n",
            "+---+-----+-----+-----+-----+-----+-----+-----+-----+-----+-----+------+------+------+------+------+------+------+------+------+------+------+------+------+------+------+------+------+------+------+------+------+------+------+------+------+------+------+------+------+------+------+------+------+------+------+------+------+------+------+------+------+------+------+------+------+------+------+------+------+------+------+------+------+------+------+------+------+-------------+------+------+------+------+------+------+------+------+------+------+------+------+------+------+------+------+------+------+------+------+------+------+------+------+------+------+------+------+------+------+------+------+-------+-------+-------+-------+-------+-------+-------+-------+-------+-------+-------+-------+-------+\n",
            "|_c0|col_0|col_1|col_2|col_3|col_4|col_5|col_6|col_7|col_8|col_9|col_10|col_11|col_12|col_13|col_14|col_15|col_16|col_17|col_18|col_19|col_20|col_21|col_22|col_23|col_24|col_25|col_26|col_27|col_28|col_29|col_30|col_31|col_32|col_33|col_34|col_35|col_36|col_37|col_38|col_39|col_40|col_41|col_42|col_43|col_44|col_45|col_46|col_47|col_48|col_49|col_50|col_51|col_52|col_53|col_54|col_55|col_56|col_57|col_58|col_59|col_60|col_61|col_62|col_63|col_64|col_65|col_66|       col_67|col_68|col_69|col_70|col_71|col_72|col_73|col_74|col_75|col_76|col_77|col_78|col_79|col_80|col_81|col_82|col_83|col_84|col_85|col_86|col_87|col_88|col_89|col_90|col_91|col_92|col_93|col_94|col_95|col_96|col_97|col_98|col_99|col_100|col_101|col_102|col_103|col_104|col_105|col_106|col_107|col_108|col_109|col_110|col_111|targets|\n",
            "+---+-----+-----+-----+-----+-----+-----+-----+-----+-----+-----+------+------+------+------+------+------+------+------+------+------+------+------+------+------+------+------+------+------+------+------+------+------+------+------+------+------+------+------+------+------+------+------+------+------+------+------+------+------+------+------+------+------+------+------+------+------+------+------+------+------+------+------+------+------+------+------+------+-------------+------+------+------+------+------+------+------+------+------+------+------+------+------+------+------+------+------+------+------+------+------+------+------+------+------+------+------+------+------+------+------+------+-------+-------+-------+-------+-------+-------+-------+-------+-------+-------+-------+-------+-------+\n",
            "|  0|    9| 1354|    0|   18|    0|    1|    7|    9|    0|    0|     0|     0|     0|     0|     1|     0|     1|     0|     0|     0|     0|     0|     9|    74|    19|    25|     0|     0|     1|     3|    24|     0|     0|     0|     2|     0|    97|     0|   981|     0|     0|    20|    89|     1|     1|     0|     0|    36|    35|   358|    15|     0|     0|     0|  1182|    56|     0|    11|     0|    16|    82|     1|     1|    32|    31|   189|    32|17043.0846561|   189|     9|     0|     0|     0|     0|     0|     0|     0|     0|     0|     0|     0|     0|     0|     0|     0|     0|     0|     0|     0|     0|     0|     0|     0|     0|     0|     0|     1|     1|     1|     0|      0|      0|      4|      0|      0|      0|      1|      1|      0|      0|      0|     49|      1|\n",
            "|  1|    0|  239|    0|    1|    0|    1|    0|    0|    0|    0|     0|     0|     0|     0|     0|     0|     1|     0|     0|     0|     0|     0|     0|     7|     1|     0|     0|     0|     1|     1|     0|     0|     0|     0|     0|     0|     0|     0|    18|     0|     0|     0|     0|     0|     0|     0|     0|     0|     0|    14|     0|     0|     0|     0|    32|     0|     0|     0|     0|     0|     0|     0|     0|     0|     0|     0|     0|      1156.72|    25|     3|     0|     0|     0|     0|     0|     0|     0|     0|     0|     0|     0|     0|     0|     0|     0|     0|     0|     0|     0|     1|     0|     0|     0|     0|     0|     0|     0|     0|     0|     1|      0|      0|      0|      0|      1|      0|      0|      0|      0|      0|      0|     55|      1|\n",
            "|  2|    0|  260|    0|    4|    0|    3|    6|    0|    0|    0|     0|     0|     0|     0|     1|     1|     0|     0|     0|     0|     0|     0|     0|    13|     7|     5|     0|     0|     1|     5|     0|     0|     0|     0|     0|     0|     5|     0|    91|     0|     0|     6|     0|     0|     0|     0|     0|    13|     8|    45|     0|     0|     0|     0|   168|     0|     0|     0|     0|     0|     0|     0|     0|     0|     0|     0|     0|245.365853659|    41|     7|     0|     0|     0|     0|     0|     0|     0|     0|     0|     0|     0|     0|     1|     0|     0|     0|     0|     0|     0|     0|     0|     0|     0|     0|     0|     0|     1|     0|     1|     0|      0|      0|      1|      0|      0|      0|      1|      1|      0|      0|      0|     56|      1|\n",
            "|  3|   17|  682|    0|    1|    0|    0|    8|   17|    0|    0|     0|     0|     0|     0|     0|     0|     1|     0|     0|     0|     0|     0|    23|    52|     1|     7|     0|     0|     1|     1|     1|     9|     0|     0|     0|     0|     3|     0|    26|     0|     0|     0|     2|     0|     0|     0|     0|     0|     0|     4|     2|     0|     0|     0|    33|     0|     0|     0|     0|     0|     2|     0|     0|     0|     0|     2|     0|46088.1842105|    38|     5|     0|     0|     0|     0|     0|     0|     0|     0|     0|     0|     0|     0|     0|     0|     0|     0|     0|     0|     0|     0|     0|     0|     0|     0|     0|     0|     0|     0|     1|     0|      0|      0|      1|      0|      1|      0|      1|      1|      0|      0|      0|     65|      1|\n",
            "|  4|    1|  540|    0|    2|    0|    1|    7|    1|    0|    0|     0|     0|     0|     0|     1|     0|     1|     0|     0|     0|     0|     0|     1|    20|     3|    11|     0|     0|     1|     4|    20|     0|     0|     0|     0|     0|    52|     0|   669|     0|     0|     0|     9|     0|     0|     0|     0|    21|     6|    66|    36|     0|     0|     0|   670|    39|     0|    36|     0|     0|     8|     0|     0|    20|     4|    48|    34|26070.2329317|   249|     6|     0|     0|     0|     0|     0|     0|     1|     0|     0|     0|     0|     0|     0|     0|     0|     0|     0|     0|     0|     0|     0|     0|     1|     0|     0|     0|     0|     0|     1|     0|      0|      0|      1|      0|      0|      0|      1|      1|      0|      0|      0|    175|      1|\n",
            "+---+-----+-----+-----+-----+-----+-----+-----+-----+-----+-----+------+------+------+------+------+------+------+------+------+------+------+------+------+------+------+------+------+------+------+------+------+------+------+------+------+------+------+------+------+------+------+------+------+------+------+------+------+------+------+------+------+------+------+------+------+------+------+------+------+------+------+------+------+------+------+------+------+-------------+------+------+------+------+------+------+------+------+------+------+------+------+------+------+------+------+------+------+------+------+------+------+------+------+------+------+------+------+------+------+------+------+-------+-------+-------+-------+-------+-------+-------+-------+-------+-------+-------+-------+-------+\n",
            "only showing top 5 rows\n",
            "\n"
          ]
        }
      ]
    },
    {
      "cell_type": "code",
      "source": [
        "print(\"Row count:\", df.count())\n",
        "print(\"Column count:\", len(df.columns))\n"
      ],
      "metadata": {
        "colab": {
          "base_uri": "https://localhost:8080/"
        },
        "id": "QSFBj8pVD-bE",
        "outputId": "d8edea9a-f170-4ad4-aad2-59fd819ba1ca"
      },
      "execution_count": 8,
      "outputs": [
        {
          "output_type": "stream",
          "name": "stdout",
          "text": [
            "Row count: 20468\n",
            "Column count: 114\n"
          ]
        }
      ]
    },
    {
      "cell_type": "code",
      "source": [
        "df.describe().show()\n"
      ],
      "metadata": {
        "colab": {
          "base_uri": "https://localhost:8080/"
        },
        "id": "UQMrF_0DEFez",
        "outputId": "75671c58-9771-4632-93b8-b87771b7161d"
      },
      "execution_count": 9,
      "outputs": [
        {
          "output_type": "stream",
          "name": "stdout",
          "text": [
            "+-------+-----------------+------------------+------------------+-------------------+-----------------+-------------------+------------------+-----------------+------------------+-----+-----+------+------+------+-------------------+-------------------+-------------------+-------------------+------------------+------+------+------+------+------------------+-----------------+------------------+------------------+-----------------+-------------------+--------------------+------------------+-----------------+-------------------+------------------+------------------+-----------------+------+------------------+-----------------+-----------------+--------------------+-------------------+------------------+-----------------+------------------+------------------+-------------------+-------------------+-----------------+------------------+------------------+------------------+------+------+------+------------------+------------------+------------------+------------------+--------------------+------------------+-----------------+-------------------+------------------+------------------+-----------------+------------------+------------------+------------------+------------------+------------------+------+------+--------------------+--------------------+------------------+--------------------+-------------------+--------------------+--------------------+--------------------+--------------------+--------------------+-------------------+-------------------+-------------------+--------------------+-------------------+--------------------+--------------------+-------------------+-------------------+--------------------+-------------------+--------------------+--------------------+--------------------+------------------+-------------------+-------------------+-------------------+-------------------+--------------------+------------------+-------------------+------------------+--------------------+-------------------+-------------------+--------------------+-------------------+--------------------+------------------+------------------+\n",
            "|summary|              _c0|             col_0|             col_1|              col_2|            col_3|              col_4|             col_5|            col_6|             col_7|col_8|col_9|col_10|col_11|col_12|             col_13|             col_14|             col_15|             col_16|            col_17|col_18|col_19|col_20|col_21|            col_22|           col_23|            col_24|            col_25|           col_26|             col_27|              col_28|            col_29|           col_30|             col_31|            col_32|            col_33|           col_34|col_35|            col_36|           col_37|           col_38|              col_39|             col_40|            col_41|           col_42|            col_43|            col_44|             col_45|             col_46|           col_47|            col_48|            col_49|            col_50|col_51|col_52|col_53|            col_54|            col_55|            col_56|            col_57|              col_58|            col_59|           col_60|             col_61|            col_62|            col_63|           col_64|            col_65|            col_66|            col_67|            col_68|            col_69|col_70|col_71|              col_72|              col_73|            col_74|              col_75|             col_76|              col_77|              col_78|              col_79|              col_80|              col_81|             col_82|             col_83|             col_84|              col_85|             col_86|              col_87|              col_88|             col_89|             col_90|              col_91|             col_92|              col_93|              col_94|              col_95|            col_96|             col_97|             col_98|             col_99|            col_100|             col_101|           col_102|            col_103|           col_104|             col_105|            col_106|            col_107|             col_108|            col_109|             col_110|           col_111|           targets|\n",
            "+-------+-----------------+------------------+------------------+-------------------+-----------------+-------------------+------------------+-----------------+------------------+-----+-----+------+------+------+-------------------+-------------------+-------------------+-------------------+------------------+------+------+------+------+------------------+-----------------+------------------+------------------+-----------------+-------------------+--------------------+------------------+-----------------+-------------------+------------------+------------------+-----------------+------+------------------+-----------------+-----------------+--------------------+-------------------+------------------+-----------------+------------------+------------------+-------------------+-------------------+-----------------+------------------+------------------+------------------+------+------+------+------------------+------------------+------------------+------------------+--------------------+------------------+-----------------+-------------------+------------------+------------------+-----------------+------------------+------------------+------------------+------------------+------------------+------+------+--------------------+--------------------+------------------+--------------------+-------------------+--------------------+--------------------+--------------------+--------------------+--------------------+-------------------+-------------------+-------------------+--------------------+-------------------+--------------------+--------------------+-------------------+-------------------+--------------------+-------------------+--------------------+--------------------+--------------------+------------------+-------------------+-------------------+-------------------+-------------------+--------------------+------------------+-------------------+------------------+--------------------+-------------------+-------------------+--------------------+-------------------+--------------------+------------------+------------------+\n",
            "|  count|            20468|             20468|             20468|              20468|            20468|              20468|             20468|            20468|             20468|20468|20468| 20468| 20468| 20468|              20468|              20468|              20468|              20468|             20468| 20468| 20468| 20468| 20468|             20468|            20468|             20468|             20468|            20468|              20468|               20468|             20468|            20468|              20468|             20468|             20468|            20468| 20468|             20468|            20468|            20468|               20468|              20468|             20468|            20468|             20468|             20468|              20468|              20468|            20468|             20468|             20468|             20468| 20468| 20468| 20468|             20468|             20468|             20468|             20468|               20468|             20468|            20468|              20468|             20468|             20468|            20468|             20468|             20468|             20468|             20468|             20468| 20468| 20468|               20468|               20468|             20468|               20468|              20468|               20468|               20468|               20468|               20468|               20468|              20468|              20468|              20468|               20468|              20468|               20468|               20468|              20468|              20468|               20468|              20468|               20468|               20468|               20468|             20468|              20468|              20468|              20468|              20468|               20468|             20468|              20468|             20468|               20468|              20468|              20468|               20468|              20468|               20468|             20468|             20468|\n",
            "|   mean|          10233.5|3.2262556185264804|294.79304279851476|0.42002149697088137|2.329343365253078|0.08359390267735001|0.9398573382841509|2.386066054328708|3.2262556185264804|  0.0|  0.0|   0.0|   0.0|   0.0|0.03864569083447333|0.36315223763924176|0.33076021106116865| 0.4126441274184092|196.67949970685947|   0.0|   0.0|   0.0|   0.0| 4.220343951534102|34.20128981825288|3.0687903068204028| 2.701924956028923|0.875561852648036| 0.0385968340824702|  0.9999511432479968| 1.409077584522181|6.184043384795779|0.22664647254250536|0.4228063318350596| 0.066640609732265|2.483926128590971|   0.0|17.981776431502833|2.323871409028728|167.5093804963846|0.002051983584131327|0.04353136603478601|0.6083154191909322|5.638508891928865|0.2975376196990424|0.7196599570060582|0.08286105139730311|0.03854797733046707|21.38875317568888|2.7339749853429742|23.753224545632207|25.238420949775257|   0.0|   0.0|   0.0| 193.0390365448505|11.102696892710572|0.5511041625952706|17.597664647254252|0.004983388704318...|0.2157514168458081| 4.31155950752394|0.25317568888020325|0.5690345905804182|19.624926714871997|1.605872581590776|13.726353332030486| 5.758256791088528|36808.209182645754|36.608950556966974|2.7520519835841313|   0.0|   0.0|0.005569669728356459|0.028727770177838577|0.0340531561461794|0.008256791088528434|0.09473324213406292|0.015829587649013092|4.397107680281414...|0.002784834864178...|0.006155950752393981|0.006644518272425249|0.03488372093023256|0.10113347664647254|0.02222982216142271|0.030291186241938637|0.03038889974594489|0.021301543873363298|0.005618526480359586|0.07040257963650577|0.08261676763728747|3.908540160250146...|0.03024232948993551|0.002882548368184...|0.010748485440687903|0.011872190736759821|0.2110611686535079| 0.1358706273206957|0.23548954465507133|0.14720539378542113|0.04582763337893297|0.007963650576509674|0.3655950752393981|0.00493453195231581|0.3581199921829197|0.002442837600156...|0.30838381864373654|0.19073675982020716|4.885675200312683E-5| 0.0493453195231581|0.024281805745554035| 43.48612468243111|0.2656830173930037|\n",
            "| stddev|5908.746990691005| 20.56430794451052| 717.5419842156925|  7.367275061894912|10.06851230174707| 0.8405365704812978| 4.222896061346653|3.018139537784983| 20.56430794451052|  0.0|  0.0|   0.0|   0.0|   0.0|0.19275377204863328|  0.480919941072712|0.47049836258595684|0.49232183931227935| 6700.095222852139|   0.0|   0.0|   0.0|   0.0|29.063426669353944|126.1093746423913|  12.7684773156312|14.340518938308326|4.880614361190984|0.31582645207751076|0.006989760511142483|2.9596708938185063| 22.1277330850748| 1.6860315101101313| 5.838400643145621|0.2877867866817655|   18.28797360521|   0.0| 675.9336078016723|47.75134085446819|785.6553544742249| 0.08949127315199684|  5.113268323709843| 4.202273572318781|58.08180004546007| 3.618908205413626| 18.69411269509329| 1.7874754634973793|   0.80029632605831| 673.155286945405| 40.18912543444279|345.44100817979177|2037.4039668045634|   0.0|   0.0|   0.0|1078.1060224677976| 518.2068057755662|19.703362207775754|1413.8121358055234|  0.7129555721365338| 2.163711085375456|54.26432441789211| 3.0960112655794116| 18.07580744478758|1095.4544796148818|28.58928336588695| 250.7846503406557|133.30079505359063|375008.23717134714| 86.60162529028968|2.6456004664626236|   0.0|   0.0| 0.07442391498081322|  0.1670444512393729|0.1813701900882466| 0.09049318525834389|0.29285328250278586| 0.12481896082318604|0.020965182968710392| 0.05269929074165935|  0.0782199076043268| 0.08124463759339835|0.18348975959832775| 0.3015127495018606|0.14743377887577663|  0.1713915559421836|0.17165912202083075| 0.14439115868692734| 0.07474778668655299| 0.2558305182244785| 0.2753088092253172|0.019766647123117532|0.17125759523199563| 0.05361324198317531| 0.10311874232393958| 0.10831350332366663| 0.408071669548374|0.34265950518543087| 0.4243147597364105| 0.3543192055267641|0.20911623056075285| 0.08888541412674403|0.5588121983668688|0.07347798068148986|0.4794593774609356| 0.04936587088255383| 0.4618372655794331|0.39289157535750413|0.006989760511142483|0.21659328466983896|  0.3050792270223643|59.217559524246795|0.4417070113351715|\n",
            "|    min|                0|                 0|                 0|                  0|                0|                  0|                 0|               -1|                 0|    0|    0|     0|     0|     0|                  0|                  0|                  0|                  0|                 0|     0|     0|     0|     0|                 0|                0|                 0|                 0|                0|                  0|                   0|                 0|                0|                  0|                 0|                 0|                0|     0|                 0|                0|                0|                   0|                  0|                 0|                0|                 0|                 0|                  0|                  0|                0|                 0|                 0|                 0|     0|     0|     0|                 0|                 0|                 0|                 0|                   0|                 0|                0|                  0|                 0|                 0|                0|                 0|                 0|               0.0|                 0|                 0|     0|     0|                   0|                   0|                 0|                   0|                  0|                   0|                   0|                   0|                   0|                   0|                  0|                  0|                  0|                   0|                  0|                   0|                   0|                  0|                  0|                   0|                  0|                   0|                   0|                   0|                 0|                  0|                  0|                  0|                  0|                   0|                 0|                  0|                 0|                   0|                  0|                  0|                   0|                  0|                   0|                 0|                 0|\n",
            "|    max|            20467|              2301|             37808|                904|              772|                 54|               230|               11|              2301|    0|    0|     0|     0|     0|                  1|                  1|                  1|                  1|            646622|     0|     0|     0|     0|              3349|            11480|               909|               693|              202|                 18|                   1|               203|              973|                117|               378|                 9|              857|     0|             94642|             5054|            73318|                   9|                724|               254|             6332|               297|              2489|                232|                 69|            95635|              4565|             41900|            291269|     0|     0|     0|            121855|             72763|              2181|            202040|                 102|               145|             6325|                211|              2441|            156330|             3642|             29269|             18382|   2.49265573333E7|              1665|                36|     0|     0|                   1|                   1|                 1|                   1|                  1|                   1|                   1|                   1|                   1|                   1|                  1|                  1|                  1|                   1|                  1|                   1|                   1|                  1|                  1|                   1|                  1|                   1|                   1|                   1|                 1|                  1|                  1|                  1|                  1|                   1|                20|                  2|                 1|                   1|                  1|                  1|                   1|                  1|                  17|               747|                 1|\n",
            "+-------+-----------------+------------------+------------------+-------------------+-----------------+-------------------+------------------+-----------------+------------------+-----+-----+------+------+------+-------------------+-------------------+-------------------+-------------------+------------------+------+------+------+------+------------------+-----------------+------------------+------------------+-----------------+-------------------+--------------------+------------------+-----------------+-------------------+------------------+------------------+-----------------+------+------------------+-----------------+-----------------+--------------------+-------------------+------------------+-----------------+------------------+------------------+-------------------+-------------------+-----------------+------------------+------------------+------------------+------+------+------+------------------+------------------+------------------+------------------+--------------------+------------------+-----------------+-------------------+------------------+------------------+-----------------+------------------+------------------+------------------+------------------+------------------+------+------+--------------------+--------------------+------------------+--------------------+-------------------+--------------------+--------------------+--------------------+--------------------+--------------------+-------------------+-------------------+-------------------+--------------------+-------------------+--------------------+--------------------+-------------------+-------------------+--------------------+-------------------+--------------------+--------------------+--------------------+------------------+-------------------+-------------------+-------------------+-------------------+--------------------+------------------+-------------------+------------------+--------------------+-------------------+-------------------+--------------------+-------------------+--------------------+------------------+------------------+\n",
            "\n"
          ]
        }
      ]
    },
    {
      "cell_type": "code",
      "source": [
        "from pyspark.sql.functions import sum\n",
        "\n",
        "# Get columns where all values = 0\n",
        "zero_cols = []\n",
        "for col_name in df.columns:\n",
        "    if df.select(sum(col_name)).first()[0] == 0:\n",
        "        zero_cols.append(col_name)\n",
        "\n",
        "# Drop them\n",
        "df_clean = df.drop(*zero_cols)\n",
        "print(\"Dropped columns:\", zero_cols)\n"
      ],
      "metadata": {
        "colab": {
          "base_uri": "https://localhost:8080/"
        },
        "id": "bZSxOxBhEZis",
        "outputId": "4284119d-bbba-4e9a-e5b9-3ff555b7dea3"
      },
      "execution_count": 10,
      "outputs": [
        {
          "output_type": "stream",
          "name": "stdout",
          "text": [
            "Dropped columns: ['col_8', 'col_9', 'col_10', 'col_11', 'col_12', 'col_18', 'col_19', 'col_20', 'col_21', 'col_35', 'col_51', 'col_52', 'col_53', 'col_70', 'col_71']\n"
          ]
        }
      ]
    },
    {
      "cell_type": "code",
      "source": [
        "df_clean.columns\n"
      ],
      "metadata": {
        "colab": {
          "base_uri": "https://localhost:8080/"
        },
        "id": "zaz7y1nJG16j",
        "outputId": "e33eb94e-9474-424d-9866-1520f7be5f70"
      },
      "execution_count": 11,
      "outputs": [
        {
          "output_type": "execute_result",
          "data": {
            "text/plain": [
              "['_c0',\n",
              " 'col_0',\n",
              " 'col_1',\n",
              " 'col_2',\n",
              " 'col_3',\n",
              " 'col_4',\n",
              " 'col_5',\n",
              " 'col_6',\n",
              " 'col_7',\n",
              " 'col_13',\n",
              " 'col_14',\n",
              " 'col_15',\n",
              " 'col_16',\n",
              " 'col_17',\n",
              " 'col_22',\n",
              " 'col_23',\n",
              " 'col_24',\n",
              " 'col_25',\n",
              " 'col_26',\n",
              " 'col_27',\n",
              " 'col_28',\n",
              " 'col_29',\n",
              " 'col_30',\n",
              " 'col_31',\n",
              " 'col_32',\n",
              " 'col_33',\n",
              " 'col_34',\n",
              " 'col_36',\n",
              " 'col_37',\n",
              " 'col_38',\n",
              " 'col_39',\n",
              " 'col_40',\n",
              " 'col_41',\n",
              " 'col_42',\n",
              " 'col_43',\n",
              " 'col_44',\n",
              " 'col_45',\n",
              " 'col_46',\n",
              " 'col_47',\n",
              " 'col_48',\n",
              " 'col_49',\n",
              " 'col_50',\n",
              " 'col_54',\n",
              " 'col_55',\n",
              " 'col_56',\n",
              " 'col_57',\n",
              " 'col_58',\n",
              " 'col_59',\n",
              " 'col_60',\n",
              " 'col_61',\n",
              " 'col_62',\n",
              " 'col_63',\n",
              " 'col_64',\n",
              " 'col_65',\n",
              " 'col_66',\n",
              " 'col_67',\n",
              " 'col_68',\n",
              " 'col_69',\n",
              " 'col_72',\n",
              " 'col_73',\n",
              " 'col_74',\n",
              " 'col_75',\n",
              " 'col_76',\n",
              " 'col_77',\n",
              " 'col_78',\n",
              " 'col_79',\n",
              " 'col_80',\n",
              " 'col_81',\n",
              " 'col_82',\n",
              " 'col_83',\n",
              " 'col_84',\n",
              " 'col_85',\n",
              " 'col_86',\n",
              " 'col_87',\n",
              " 'col_88',\n",
              " 'col_89',\n",
              " 'col_90',\n",
              " 'col_91',\n",
              " 'col_92',\n",
              " 'col_93',\n",
              " 'col_94',\n",
              " 'col_95',\n",
              " 'col_96',\n",
              " 'col_97',\n",
              " 'col_98',\n",
              " 'col_99',\n",
              " 'col_100',\n",
              " 'col_101',\n",
              " 'col_102',\n",
              " 'col_103',\n",
              " 'col_104',\n",
              " 'col_105',\n",
              " 'col_106',\n",
              " 'col_107',\n",
              " 'col_108',\n",
              " 'col_109',\n",
              " 'col_110',\n",
              " 'col_111',\n",
              " 'targets']"
            ]
          },
          "metadata": {},
          "execution_count": 11
        }
      ]
    },
    {
      "cell_type": "code",
      "source": [
        "new_names = [\n",
        "    \"amount\", \"oldbalanceOrg\", \"newbalanceOrig\", \"type\",  # first few known fields\n",
        "    # Add generic names for the rest\n",
        "] + [f\"feature_{i}\" for i in range(len(df_clean.columns) - 5)] + [\"isFraud\"]  # assuming last column is the target\n",
        "\n",
        "df_clean = df_clean.toDF(*new_names)\n"
      ],
      "metadata": {
        "id": "7xjeAwMYHBVm"
      },
      "execution_count": 12,
      "outputs": []
    },
    {
      "cell_type": "code",
      "source": [
        "df_clean.show(5)\n"
      ],
      "metadata": {
        "colab": {
          "base_uri": "https://localhost:8080/"
        },
        "id": "vKESGEq4HHqf",
        "outputId": "cac296f5-1481-4864-941c-2d45cc493905"
      },
      "execution_count": 13,
      "outputs": [
        {
          "output_type": "stream",
          "name": "stdout",
          "text": [
            "+------+-------------+--------------+----+---------+---------+---------+---------+---------+---------+---------+---------+---------+---------+----------+----------+----------+----------+----------+----------+----------+----------+----------+----------+----------+----------+----------+----------+----------+----------+----------+----------+----------+----------+----------+----------+----------+----------+----------+----------+----------+----------+----------+----------+----------+----------+----------+----------+----------+----------+----------+----------+----------+----------+----------+-------------+----------+----------+----------+----------+----------+----------+----------+----------+----------+----------+----------+----------+----------+----------+----------+----------+----------+----------+----------+----------+----------+----------+----------+----------+----------+----------+----------+----------+----------+----------+----------+----------+----------+----------+----------+----------+----------+----------+----------+----------+----------+----------+-------+\n",
            "|amount|oldbalanceOrg|newbalanceOrig|type|feature_0|feature_1|feature_2|feature_3|feature_4|feature_5|feature_6|feature_7|feature_8|feature_9|feature_10|feature_11|feature_12|feature_13|feature_14|feature_15|feature_16|feature_17|feature_18|feature_19|feature_20|feature_21|feature_22|feature_23|feature_24|feature_25|feature_26|feature_27|feature_28|feature_29|feature_30|feature_31|feature_32|feature_33|feature_34|feature_35|feature_36|feature_37|feature_38|feature_39|feature_40|feature_41|feature_42|feature_43|feature_44|feature_45|feature_46|feature_47|feature_48|feature_49|feature_50|   feature_51|feature_52|feature_53|feature_54|feature_55|feature_56|feature_57|feature_58|feature_59|feature_60|feature_61|feature_62|feature_63|feature_64|feature_65|feature_66|feature_67|feature_68|feature_69|feature_70|feature_71|feature_72|feature_73|feature_74|feature_75|feature_76|feature_77|feature_78|feature_79|feature_80|feature_81|feature_82|feature_83|feature_84|feature_85|feature_86|feature_87|feature_88|feature_89|feature_90|feature_91|feature_92|feature_93|isFraud|\n",
            "+------+-------------+--------------+----+---------+---------+---------+---------+---------+---------+---------+---------+---------+---------+----------+----------+----------+----------+----------+----------+----------+----------+----------+----------+----------+----------+----------+----------+----------+----------+----------+----------+----------+----------+----------+----------+----------+----------+----------+----------+----------+----------+----------+----------+----------+----------+----------+----------+----------+----------+----------+----------+----------+----------+----------+-------------+----------+----------+----------+----------+----------+----------+----------+----------+----------+----------+----------+----------+----------+----------+----------+----------+----------+----------+----------+----------+----------+----------+----------+----------+----------+----------+----------+----------+----------+----------+----------+----------+----------+----------+----------+----------+----------+----------+----------+----------+----------+----------+-------+\n",
            "|     0|            9|          1354|   0|       18|        0|        1|        7|        9|        0|        1|        0|        1|        0|         9|        74|        19|        25|         0|         0|         1|         3|        24|         0|         0|         0|         2|        97|         0|       981|         0|         0|        20|        89|         1|         1|         0|         0|        36|        35|       358|        15|      1182|        56|         0|        11|         0|        16|        82|         1|         1|        32|        31|       189|        32|17043.0846561|       189|         9|         0|         0|         0|         0|         0|         0|         0|         0|         0|         0|         0|         0|         0|         0|         0|         0|         0|         0|         0|         0|         0|         0|         0|         0|         1|         1|         1|         0|         0|         0|         4|         0|         0|         0|         1|         1|         0|         0|         0|        49|      1|\n",
            "|     1|            0|           239|   0|        1|        0|        1|        0|        0|        0|        0|        0|        1|        0|         0|         7|         1|         0|         0|         0|         1|         1|         0|         0|         0|         0|         0|         0|         0|        18|         0|         0|         0|         0|         0|         0|         0|         0|         0|         0|        14|         0|        32|         0|         0|         0|         0|         0|         0|         0|         0|         0|         0|         0|         0|      1156.72|        25|         3|         0|         0|         0|         0|         0|         0|         0|         0|         0|         0|         0|         0|         0|         0|         0|         0|         0|         1|         0|         0|         0|         0|         0|         0|         0|         0|         0|         1|         0|         0|         0|         0|         1|         0|         0|         0|         0|         0|         0|        55|      1|\n",
            "|     2|            0|           260|   0|        4|        0|        3|        6|        0|        0|        1|        1|        0|        0|         0|        13|         7|         5|         0|         0|         1|         5|         0|         0|         0|         0|         0|         5|         0|        91|         0|         0|         6|         0|         0|         0|         0|         0|        13|         8|        45|         0|       168|         0|         0|         0|         0|         0|         0|         0|         0|         0|         0|         0|         0|245.365853659|        41|         7|         0|         0|         0|         0|         0|         0|         0|         0|         0|         0|         1|         0|         0|         0|         0|         0|         0|         0|         0|         0|         0|         0|         0|         0|         1|         0|         1|         0|         0|         0|         1|         0|         0|         0|         1|         1|         0|         0|         0|        56|      1|\n",
            "|     3|           17|           682|   0|        1|        0|        0|        8|       17|        0|        0|        0|        1|        0|        23|        52|         1|         7|         0|         0|         1|         1|         1|         9|         0|         0|         0|         3|         0|        26|         0|         0|         0|         2|         0|         0|         0|         0|         0|         0|         4|         2|        33|         0|         0|         0|         0|         0|         2|         0|         0|         0|         0|         2|         0|46088.1842105|        38|         5|         0|         0|         0|         0|         0|         0|         0|         0|         0|         0|         0|         0|         0|         0|         0|         0|         0|         0|         0|         0|         0|         0|         0|         0|         0|         0|         1|         0|         0|         0|         1|         0|         1|         0|         1|         1|         0|         0|         0|        65|      1|\n",
            "|     4|            1|           540|   0|        2|        0|        1|        7|        1|        0|        1|        0|        1|        0|         1|        20|         3|        11|         0|         0|         1|         4|        20|         0|         0|         0|         0|        52|         0|       669|         0|         0|         0|         9|         0|         0|         0|         0|        21|         6|        66|        36|       670|        39|         0|        36|         0|         0|         8|         0|         0|        20|         4|        48|        34|26070.2329317|       249|         6|         0|         0|         0|         0|         1|         0|         0|         0|         0|         0|         0|         0|         0|         0|         0|         0|         0|         0|         0|         0|         1|         0|         0|         0|         0|         0|         1|         0|         0|         0|         1|         0|         0|         0|         1|         1|         0|         0|         0|       175|      1|\n",
            "+------+-------------+--------------+----+---------+---------+---------+---------+---------+---------+---------+---------+---------+---------+----------+----------+----------+----------+----------+----------+----------+----------+----------+----------+----------+----------+----------+----------+----------+----------+----------+----------+----------+----------+----------+----------+----------+----------+----------+----------+----------+----------+----------+----------+----------+----------+----------+----------+----------+----------+----------+----------+----------+----------+----------+-------------+----------+----------+----------+----------+----------+----------+----------+----------+----------+----------+----------+----------+----------+----------+----------+----------+----------+----------+----------+----------+----------+----------+----------+----------+----------+----------+----------+----------+----------+----------+----------+----------+----------+----------+----------+----------+----------+----------+----------+----------+----------+----------+-------+\n",
            "only showing top 5 rows\n",
            "\n"
          ]
        }
      ]
    },
    {
      "cell_type": "code",
      "source": [
        "print(\"Rows:\", df_clean.count())\n",
        "print(\"Columns:\", len(df_clean.columns))\n"
      ],
      "metadata": {
        "colab": {
          "base_uri": "https://localhost:8080/"
        },
        "id": "DvSE9JEmHSWc",
        "outputId": "8e5f291e-78af-44d5-9898-635f8e33e64d"
      },
      "execution_count": 14,
      "outputs": [
        {
          "output_type": "stream",
          "name": "stdout",
          "text": [
            "Rows: 20468\n",
            "Columns: 99\n"
          ]
        }
      ]
    },
    {
      "cell_type": "code",
      "source": [
        "df_clean.printSchema()"
      ],
      "metadata": {
        "colab": {
          "base_uri": "https://localhost:8080/"
        },
        "id": "AqBv8dwGIgd1",
        "outputId": "a1ec71c7-a2ee-49ee-953d-c966d643cae4"
      },
      "execution_count": 15,
      "outputs": [
        {
          "output_type": "stream",
          "name": "stdout",
          "text": [
            "root\n",
            " |-- amount: integer (nullable = true)\n",
            " |-- oldbalanceOrg: integer (nullable = true)\n",
            " |-- newbalanceOrig: integer (nullable = true)\n",
            " |-- type: integer (nullable = true)\n",
            " |-- feature_0: integer (nullable = true)\n",
            " |-- feature_1: integer (nullable = true)\n",
            " |-- feature_2: integer (nullable = true)\n",
            " |-- feature_3: integer (nullable = true)\n",
            " |-- feature_4: integer (nullable = true)\n",
            " |-- feature_5: integer (nullable = true)\n",
            " |-- feature_6: integer (nullable = true)\n",
            " |-- feature_7: integer (nullable = true)\n",
            " |-- feature_8: integer (nullable = true)\n",
            " |-- feature_9: integer (nullable = true)\n",
            " |-- feature_10: integer (nullable = true)\n",
            " |-- feature_11: integer (nullable = true)\n",
            " |-- feature_12: integer (nullable = true)\n",
            " |-- feature_13: integer (nullable = true)\n",
            " |-- feature_14: integer (nullable = true)\n",
            " |-- feature_15: integer (nullable = true)\n",
            " |-- feature_16: integer (nullable = true)\n",
            " |-- feature_17: integer (nullable = true)\n",
            " |-- feature_18: integer (nullable = true)\n",
            " |-- feature_19: integer (nullable = true)\n",
            " |-- feature_20: integer (nullable = true)\n",
            " |-- feature_21: integer (nullable = true)\n",
            " |-- feature_22: integer (nullable = true)\n",
            " |-- feature_23: integer (nullable = true)\n",
            " |-- feature_24: integer (nullable = true)\n",
            " |-- feature_25: integer (nullable = true)\n",
            " |-- feature_26: integer (nullable = true)\n",
            " |-- feature_27: integer (nullable = true)\n",
            " |-- feature_28: integer (nullable = true)\n",
            " |-- feature_29: integer (nullable = true)\n",
            " |-- feature_30: integer (nullable = true)\n",
            " |-- feature_31: integer (nullable = true)\n",
            " |-- feature_32: integer (nullable = true)\n",
            " |-- feature_33: integer (nullable = true)\n",
            " |-- feature_34: integer (nullable = true)\n",
            " |-- feature_35: integer (nullable = true)\n",
            " |-- feature_36: integer (nullable = true)\n",
            " |-- feature_37: integer (nullable = true)\n",
            " |-- feature_38: integer (nullable = true)\n",
            " |-- feature_39: integer (nullable = true)\n",
            " |-- feature_40: integer (nullable = true)\n",
            " |-- feature_41: integer (nullable = true)\n",
            " |-- feature_42: integer (nullable = true)\n",
            " |-- feature_43: integer (nullable = true)\n",
            " |-- feature_44: integer (nullable = true)\n",
            " |-- feature_45: integer (nullable = true)\n",
            " |-- feature_46: integer (nullable = true)\n",
            " |-- feature_47: integer (nullable = true)\n",
            " |-- feature_48: integer (nullable = true)\n",
            " |-- feature_49: integer (nullable = true)\n",
            " |-- feature_50: integer (nullable = true)\n",
            " |-- feature_51: double (nullable = true)\n",
            " |-- feature_52: integer (nullable = true)\n",
            " |-- feature_53: integer (nullable = true)\n",
            " |-- feature_54: integer (nullable = true)\n",
            " |-- feature_55: integer (nullable = true)\n",
            " |-- feature_56: integer (nullable = true)\n",
            " |-- feature_57: integer (nullable = true)\n",
            " |-- feature_58: integer (nullable = true)\n",
            " |-- feature_59: integer (nullable = true)\n",
            " |-- feature_60: integer (nullable = true)\n",
            " |-- feature_61: integer (nullable = true)\n",
            " |-- feature_62: integer (nullable = true)\n",
            " |-- feature_63: integer (nullable = true)\n",
            " |-- feature_64: integer (nullable = true)\n",
            " |-- feature_65: integer (nullable = true)\n",
            " |-- feature_66: integer (nullable = true)\n",
            " |-- feature_67: integer (nullable = true)\n",
            " |-- feature_68: integer (nullable = true)\n",
            " |-- feature_69: integer (nullable = true)\n",
            " |-- feature_70: integer (nullable = true)\n",
            " |-- feature_71: integer (nullable = true)\n",
            " |-- feature_72: integer (nullable = true)\n",
            " |-- feature_73: integer (nullable = true)\n",
            " |-- feature_74: integer (nullable = true)\n",
            " |-- feature_75: integer (nullable = true)\n",
            " |-- feature_76: integer (nullable = true)\n",
            " |-- feature_77: integer (nullable = true)\n",
            " |-- feature_78: integer (nullable = true)\n",
            " |-- feature_79: integer (nullable = true)\n",
            " |-- feature_80: integer (nullable = true)\n",
            " |-- feature_81: integer (nullable = true)\n",
            " |-- feature_82: integer (nullable = true)\n",
            " |-- feature_83: integer (nullable = true)\n",
            " |-- feature_84: integer (nullable = true)\n",
            " |-- feature_85: integer (nullable = true)\n",
            " |-- feature_86: integer (nullable = true)\n",
            " |-- feature_87: integer (nullable = true)\n",
            " |-- feature_88: integer (nullable = true)\n",
            " |-- feature_89: integer (nullable = true)\n",
            " |-- feature_90: integer (nullable = true)\n",
            " |-- feature_91: integer (nullable = true)\n",
            " |-- feature_92: integer (nullable = true)\n",
            " |-- feature_93: integer (nullable = true)\n",
            " |-- isFraud: integer (nullable = true)\n",
            "\n"
          ]
        }
      ]
    },
    {
      "cell_type": "code",
      "source": [
        "df_clean.groupBy(\"isFraud\").count().show()  #count farud transaction"
      ],
      "metadata": {
        "colab": {
          "base_uri": "https://localhost:8080/"
        },
        "id": "N7urVLPBIq6T",
        "outputId": "c4c87210-0d2e-41ba-caf5-43f6064a0fbb"
      },
      "execution_count": 16,
      "outputs": [
        {
          "output_type": "stream",
          "name": "stdout",
          "text": [
            "+-------+-----+\n",
            "|isFraud|count|\n",
            "+-------+-----+\n",
            "|      1| 5438|\n",
            "|      0|15030|\n",
            "+-------+-----+\n",
            "\n"
          ]
        }
      ]
    },
    {
      "cell_type": "code",
      "source": [
        "df_clean.filter(\"isFraud == 1\").groupBy().avg(\"amount\").show() # avg transation amount for fraud"
      ],
      "metadata": {
        "colab": {
          "base_uri": "https://localhost:8080/"
        },
        "id": "vdxtsl4AJKOg",
        "outputId": "ae82bf3c-8fdd-4c57-eaed-22bedd277922"
      },
      "execution_count": 17,
      "outputs": [
        {
          "output_type": "stream",
          "name": "stdout",
          "text": [
            "+-----------+\n",
            "|avg(amount)|\n",
            "+-----------+\n",
            "|     2718.5|\n",
            "+-----------+\n",
            "\n"
          ]
        }
      ]
    },
    {
      "cell_type": "code",
      "source": [
        "df_clean.groupBy(\"type\", \"isFraud\").count().orderBy(\"type\").show() # fraud count by transaction"
      ],
      "metadata": {
        "colab": {
          "base_uri": "https://localhost:8080/"
        },
        "id": "pM09XbFuJVvF",
        "outputId": "3cf360c4-9038-4456-9b07-45449c19580f"
      },
      "execution_count": 18,
      "outputs": [
        {
          "output_type": "stream",
          "name": "stdout",
          "text": [
            "+----+-------+-----+\n",
            "|type|isFraud|count|\n",
            "+----+-------+-----+\n",
            "|   0|      0|12826|\n",
            "|   0|      1| 5276|\n",
            "|   1|      0| 1119|\n",
            "|   1|      1|  102|\n",
            "|   2|      1|   25|\n",
            "|   2|      0|  611|\n",
            "|   3|      1|    8|\n",
            "|   3|      0|  170|\n",
            "|   4|      0|   66|\n",
            "|   4|      1|   15|\n",
            "|   5|      1|    4|\n",
            "|   5|      0|   40|\n",
            "|   6|      0|   40|\n",
            "|   6|      1|    2|\n",
            "|   7|      1|    1|\n",
            "|   7|      0|   26|\n",
            "|   8|      0|   15|\n",
            "|   9|      0|   17|\n",
            "|  10|      0|    9|\n",
            "|  11|      0|    8|\n",
            "+----+-------+-----+\n",
            "only showing top 20 rows\n",
            "\n"
          ]
        }
      ]
    },
    {
      "cell_type": "markdown",
      "source": [],
      "metadata": {
        "id": "emKRI_RHLOrF"
      }
    },
    {
      "cell_type": "code",
      "source": [
        "# Insights:\n",
        "# - Transaction Type 0 had the highest volume and most frauds.\n",
        "# - Fraud was present across nearly all types.\n",
        "# - Type 1 had a significant fraud rate.\n",
        "# - 15 columns were dropped due to containing only 0s.\n",
        "\n",
        "# This shows the dataset had redundant information, and PySpark allowed fast filtering and analysis even for large structured data.\n"
      ],
      "metadata": {
        "id": "P5M_j1vqOK4d"
      },
      "execution_count": null,
      "outputs": []
    }
  ]
}